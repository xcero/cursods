{
 "cells": [
  {
   "cell_type": "raw",
   "id": "310b9d3a-e57e-4afe-a2b0-ce87f9af92a4",
   "metadata": {},
   "source": [
    "print('Bienvenidos a Calculadora de Tarifa Energia Electrica.')\n"
   ]
  },
  {
   "cell_type": "code",
   "execution_count": 1,
   "id": "bdc46fa0-a053-49f3-8fe6-60fd361c9233",
   "metadata": {},
   "outputs": [
    {
     "name": "stdout",
     "output_type": "stream",
     "text": [
      "Bienvenidos a la Calculadora de Tarifa de Energía Eléctrica.\n"
     ]
    }
   ],
   "source": [
    "print('Bienvenidos a la Calculadora de Tarifa de Energía Eléctrica.')"
   ]
  },
  {
   "cell_type": "code",
   "execution_count": 2,
   "id": "22e27cfb-34f3-4e5a-a7c8-1469b3b7f4ef",
   "metadata": {},
   "outputs": [
    {
     "name": "stdin",
     "output_type": "stream",
     "text": [
      "Por favor ingresa el consumo en KWH de este mes:  200\n"
     ]
    }
   ],
   "source": [
    "entrada = float(input('Por favor ingresa el consumo en KWH de este mes: '))"
   ]
  },
  {
   "cell_type": "code",
   "execution_count": 3,
   "id": "1b1acfe6-6717-435f-bce9-4201a8a1287d",
   "metadata": {},
   "outputs": [],
   "source": [
    "# Inicializar variables para la tarifa y clasificación\n",
    "tarifa = 0\n",
    "clasificacion = \"\""
   ]
  },
  {
   "cell_type": "code",
   "execution_count": 4,
   "id": "a69d99f3-01b0-4132-818d-9511b42820fb",
   "metadata": {},
   "outputs": [],
   "source": [
    "if entrada < 0:\n",
    "        print(\"El consumo no puede ser negativo.\")"
   ]
  },
  {
   "cell_type": "code",
   "execution_count": null,
   "id": "14c9b133-298f-438f-b69e-e6331c3fe6eb",
   "metadata": {},
   "outputs": [],
   "source": [
    "else:"
   ]
  },
  {
   "cell_type": "code",
   "execution_count": null,
   "id": "f60e8130-e6a9-4732-bbe7-7a358a253a86",
   "metadata": {},
   "outputs": [],
   "source": [
    "if entrada <= 100:\n",
    "     tarifa=0.40\n",
    "     clasificacion = \"Subsidio\""
   ]
  },
  {
   "cell_type": "code",
   "execution_count": null,
   "id": "5b83fbf3-4b14-420e-926e-25f676bd50f2",
   "metadata": {},
   "outputs": [],
   "source": [
    "elif entrada <= 200:\n",
    "      tarifa=0.60 \n",
    "      clasificacion = \"Normal\""
   ]
  },
  {
   "cell_type": "code",
   "execution_count": null,
   "id": "821cb72f-e53d-4f76-9653-af550acb5752",
   "metadata": {},
   "outputs": [],
   "source": [
    "else:\n",
    "    tarifa=0.85\n",
    "    clasificacion = \"Sobreconsumo\""
   ]
  },
  {
   "cell_type": "code",
   "execution_count": null,
   "id": "0ddecb4a-2673-4e48-bd47-14f44e5cdcf8",
   "metadata": {},
   "outputs": [],
   "source": [
    "total = entrada * tarifa"
   ]
  },
  {
   "cell_type": "code",
   "execution_count": null,
   "id": "9343aa9d-9c9e-45b3-b057-e3065e2e1c97",
   "metadata": {},
   "outputs": [],
   "source": [
    "print(\"\\n--- Resumen de Factura ---\")\n",
    "print(f\"Consumo mensual: {entrada} kWh\")\n",
    "print(f\"Clasificación del consumo: {clasificacion}\")\n",
    "print(f\"Tarifa aplicada: ${tarifa} por kWh\")\n",
    "print(f\"Total a pagar: ${total:.2f}\")"
   ]
  },
  {
   "cell_type": "code",
   "execution_count": null,
   "id": "a03719c9-1c34-4a6a-8edc-2a60db8eec66",
   "metadata": {},
   "outputs": [],
   "source": []
  },
  {
   "cell_type": "code",
   "execution_count": null,
   "id": "e92a52ac-03fb-4a82-b77e-7ae03427b447",
   "metadata": {},
   "outputs": [],
   "source": []
  }
 ],
 "metadata": {
  "kernelspec": {
   "display_name": "Python 3 (ipykernel)",
   "language": "python",
   "name": "python3"
  },
  "language_info": {
   "codemirror_mode": {
    "name": "ipython",
    "version": 3
   },
   "file_extension": ".py",
   "mimetype": "text/x-python",
   "name": "python",
   "nbconvert_exporter": "python",
   "pygments_lexer": "ipython3",
   "version": "3.13.2"
  }
 },
 "nbformat": 4,
 "nbformat_minor": 5
}
