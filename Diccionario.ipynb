{
 "cells": [
  {
   "cell_type": "code",
   "execution_count": null,
   "id": "129a110d-c29f-4240-ab8d-fe2aaebb1ed0",
   "metadata": {},
   "outputs": [
    {
     "name": "stdout",
     "output_type": "stream",
     "text": [
      "👋 ¡Bienvenido al Registro de Super Empleados!\n",
      "🗂 Los datos se guardan automáticamente\n",
      "----------------------------------------------------------\n",
      "\n",
      "📋 MENÚ\n",
      "1️⃣ Agregar empleado\n",
      "2️⃣ Ver todos los empleados\n",
      "3️⃣ Buscar empleado por nombre\n",
      "4️⃣ Salir\n"
     ]
    },
    {
     "name": "stdin",
     "output_type": "stream",
     "text": [
      "Elige una opción (1-4):  2\n"
     ]
    },
    {
     "name": "stdout",
     "output_type": "stream",
     "text": [
      "\n",
      "📖 Lista de empleados:\n",
      "👤 Guillermo Ulises Palacios Flores | Edad: 30 | Cargo: Redes\n",
      "👤 Miguel Rafael Paniagua | Edad: 25 | Cargo: Profesional\n",
      "👤 Walter Alexander Salguero | Edad: 30 | Cargo: Analista de Datos\n",
      "👤 Douglas Alexander | Edad: 40 | Cargo: CEO\n",
      "\n",
      "📋 MENÚ\n",
      "1️⃣ Agregar empleado\n",
      "2️⃣ Ver todos los empleados\n",
      "3️⃣ Buscar empleado por nombre\n",
      "4️⃣ Salir\n"
     ]
    }
   ],
   "source": [
    "# Diccionario precargado con los empleados solicitados\n",
    "empleados = {  \n",
    "    \"Guillermo Ulises Palacios Flores\": {\"edad\": 30, \"cargo\": \"Redes\"},\n",
    "    \"Miguel Rafael Paniagua\": {\"edad\": 25, \"cargo\": \"Profesional\"},\n",
    "    \"Walter Alexander Salguero\": {\"edad\": 30, \"cargo\": \"Analista de Datos\"},\n",
    "    \"Douglas Alexander\": {\"edad\": 40, \"cargo\": \"CEO\"},\n",
    "    \"Cesar Romero \": {\"edad\": 41, \"cargo\": \"HelpDesk\"}\n",
    "    \n",
    "}\n",
    "\n",
    "# -------------------- MENÚ PRINCIPAL --------------------\n",
    "print(\"👋 ¡Bienvenido al Registro de Super Empleados!\")\n",
    "print(\"🗂 Los datos se guardan automáticamente\")\n",
    "print(\"----------------------------------------------------------\")\n",
    "\n",
    "while True:\n",
    "    print(\"\\n📋 MENÚ\")\n",
    "    print(\"1️⃣ Agregar empleado\")\n",
    "    print(\"2️⃣ Ver todos los empleados\")\n",
    "    print(\"3️⃣ Buscar empleado por nombre\")\n",
    "    print(\"4️⃣ Salir\")\n",
    "\n",
    "    opcion = input(\"Elige una opción (1-4): \")\n",
    "\n",
    "    if opcion == \"1\":\n",
    "        nombre = input(\"📝 Nombre del empleado: \")\n",
    "        edad = input(\"🎂 Edad: \")\n",
    "        cargo = input(\"💼 Cargo: \")\n",
    "\n",
    "        empleados[nombre] = {\n",
    "            'edad': edad,\n",
    "            'cargo': cargo\n",
    "        }\n",
    "\n",
    "        print(f\"✅ ¡Empleado {nombre} agregado con éxito!\")\n",
    "\n",
    "    elif opcion == \"2\":\n",
    "        if empleados:\n",
    "            print(\"\\n📖 Lista de empleados:\")\n",
    "            for nombre, datos in empleados.items():\n",
    "                print(f\"👤 {nombre} | Edad: {datos['edad']} | Cargo: {datos['cargo']}\")\n",
    "        else:\n",
    "            print(\"📭 No hay empleados registrados aún.\")\n",
    "\n",
    "    elif opcion == \"3\":\n",
    "        buscar = input(\"🔍 Escribe el nombre del empleado a buscar: \")\n",
    "        if buscar in empleados:\n",
    "            datos = empleados[buscar]\n",
    "            print(f\"\\n✅ Empleado encontrado:\")\n",
    "            print(f\"👤 Nombre: {buscar}\")\n",
    "            print(f\"🎂 Edad: {datos['edad']}\")\n",
    "            print(f\"💼 Cargo: {datos['cargo']}\")\n",
    "        else:\n",
    "            print(\"❌ Ese empleado no está registrado.\")\n",
    "\n",
    "    elif opcion == \"4\":\n",
    "        print(\"💾 Datos guardados automáticamente. ¡Hasta pronto! 👋\")\n",
    "        break  # Salir del bucle\n",
    "\n",
    "    else:\n",
    "        print(\"🚫 Opción no válida. Intenta con 1, 2, 3 o 4.\")\n"
   ]
  },
  {
   "cell_type": "code",
   "execution_count": null,
   "id": "93044120-7751-4705-a19e-f656d3ffeaee",
   "metadata": {},
   "outputs": [],
   "source": []
  }
 ],
 "metadata": {
  "kernelspec": {
   "display_name": "Python 3 (ipykernel)",
   "language": "python",
   "name": "python3"
  },
  "language_info": {
   "codemirror_mode": {
    "name": "ipython",
    "version": 3
   },
   "file_extension": ".py",
   "mimetype": "text/x-python",
   "name": "python",
   "nbconvert_exporter": "python",
   "pygments_lexer": "ipython3",
   "version": "3.13.2"
  }
 },
 "nbformat": 4,
 "nbformat_minor": 5
}
